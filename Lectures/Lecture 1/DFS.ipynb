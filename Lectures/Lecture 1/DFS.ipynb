{
  "nbformat": 4,
  "nbformat_minor": 0,
  "metadata": {
    "colab": {
      "provenance": [],
      "authorship_tag": "ABX9TyNbXWqCCUGraEAKN3knXpCz",
      "include_colab_link": true
    },
    "kernelspec": {
      "name": "python3",
      "display_name": "Python 3"
    },
    "language_info": {
      "name": "python"
    }
  },
  "cells": [
    {
      "cell_type": "markdown",
      "metadata": {
        "id": "view-in-github",
        "colab_type": "text"
      },
      "source": [
        "<a href=\"https://colab.research.google.com/github/thegr1ffyn/Artificial-Intelligence/blob/main/Lectures/Lecture%201/DFS.ipynb\" target=\"_parent\"><img src=\"https://colab.research.google.com/assets/colab-badge.svg\" alt=\"Open In Colab\"/></a>"
      ]
    },
    {
      "cell_type": "code",
      "execution_count": 6,
      "metadata": {
        "colab": {
          "base_uri": "https://localhost:8080/"
        },
        "id": "wmO0j5S2Kkip",
        "outputId": "f1d42771-6a0a-40b3-e00f-0536650b5a70"
      },
      "outputs": [
        {
          "output_type": "stream",
          "name": "stdout",
          "text": [
            "Following is the Depth-First Search\n",
            "1\n",
            "2\n",
            "5\n",
            "9\n",
            "10\n",
            "6\n",
            "3\n",
            "4\n",
            "7\n",
            "11\n",
            "12\n",
            "8\n"
          ]
        }
      ],
      "source": [
        "# Using a Python dictionary to act as an adjacency list\n",
        "graph = {\n",
        "    '1': ['2', '3', '4'],\n",
        "    '2': ['5', '6'],\n",
        "    '3': [],\n",
        "    '4': ['7','8'],\n",
        "    '5': ['9','10'],\n",
        "    '6': [],\n",
        "    '7': ['11','12'],\n",
        "    '8': [],\n",
        "    '9': [],\n",
        "    '10': [],\n",
        "    '11': [],\n",
        "    '12': []\n",
        "}\n",
        "\n",
        "visited = set()  # Set to keep track of visited nodes of graph.\n",
        "\n",
        "def dfs(visited, graph, node):  # Function for dfs\n",
        "    if node not in visited:\n",
        "        print(node)\n",
        "        visited.add(node)\n",
        "        for neighbour in graph[node]:\n",
        "            dfs(visited, graph, neighbour)\n",
        "\n",
        "# Driver Code\n",
        "print(\"Following is the Depth-First Search\")\n",
        "dfs(visited, graph, '1')"
      ]
    }
  ]
}