{
  "nbformat": 4,
  "nbformat_minor": 0,
  "metadata": {
    "colab": {
      "provenance": [],
      "authorship_tag": "ABX9TyObnHZWUHlhLrx4WELf/wSR",
      "include_colab_link": true
    },
    "kernelspec": {
      "name": "python3",
      "display_name": "Python 3"
    },
    "language_info": {
      "name": "python"
    }
  },
  "cells": [
    {
      "cell_type": "markdown",
      "metadata": {
        "id": "view-in-github",
        "colab_type": "text"
      },
      "source": [
        "<a href=\"https://colab.research.google.com/github/thegr1ffyn/Artificial-Intelligence/blob/main/Lectures/Lecture%201/BFS.ipynb\" target=\"_parent\"><img src=\"https://colab.research.google.com/assets/colab-badge.svg\" alt=\"Open In Colab\"/></a>"
      ]
    },
    {
      "cell_type": "code",
      "execution_count": 11,
      "metadata": {
        "colab": {
          "base_uri": "https://localhost:8080/"
        },
        "id": "wmO0j5S2Kkip",
        "outputId": "947a0649-f2be-4612-8eb1-50ae8e4fda40"
      },
      "outputs": [
        {
          "output_type": "stream",
          "name": "stdout",
          "text": [
            "Following is the Breadth-First Search:\n",
            "1 2 3 4 5 6 7 8 9 10 11 12 "
          ]
        }
      ],
      "source": [
        "graph = {\n",
        "    '1': ['2', '3', '4'],\n",
        "    '2': ['5', '6'],\n",
        "    '3': [],\n",
        "    '4': ['7', '8'],\n",
        "    '5': ['9', '10'],\n",
        "    '6': [],\n",
        "    '7': ['11', '12'],\n",
        "    '8': [],\n",
        "    '9': [],\n",
        "    '10': [],\n",
        "    '11': [],\n",
        "    '12': []\n",
        "}\n",
        "\n",
        "visited = []  # List for visited nodes.\n",
        "queue = []  # Initialize a queue\n",
        "\n",
        "\n",
        "def bfs(visited, graph, node):  # function for BFS\n",
        "    visited.append(node)\n",
        "    queue.append(node)\n",
        "\n",
        "    while queue:  # Creating loop to visit each node\n",
        "        m = queue.pop(0)\n",
        "        print(m, end=\" \")\n",
        "        for neighbour in graph[m]:\n",
        "            if neighbour not in visited:\n",
        "                visited.append(neighbour)\n",
        "                queue.append(neighbour)\n",
        "\n",
        "\n",
        "# Driver Code\n",
        "print(\"Following is the Breadth-First Search:\")\n",
        "bfs(visited, graph, '1')  # function calling\n"
      ]
    }
  ]
}