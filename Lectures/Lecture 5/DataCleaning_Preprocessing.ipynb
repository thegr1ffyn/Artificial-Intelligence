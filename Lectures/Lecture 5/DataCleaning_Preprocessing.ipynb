{
  "nbformat": 4,
  "nbformat_minor": 0,
  "metadata": {
    "colab": {
      "provenance": [],
      "mount_file_id": "1PukbledN0g6VZZ_Cns3RwGmJCxXhsVKl",
      "authorship_tag": "ABX9TyN6Yuo8cQTX0L2z0j4iNx8A",
      "include_colab_link": true
    },
    "kernelspec": {
      "name": "python3",
      "display_name": "Python 3"
    },
    "language_info": {
      "name": "python"
    }
  },
  "cells": [
    {
      "cell_type": "markdown",
      "metadata": {
        "id": "view-in-github",
        "colab_type": "text"
      },
      "source": [
        "<a href=\"https://colab.research.google.com/github/thegr1ffyn/Artificial-Intelligence/blob/main/Lectures/Lecture%205/DataCleaning_Preprocessing.ipynb\" target=\"_parent\"><img src=\"https://colab.research.google.com/assets/colab-badge.svg\" alt=\"Open In Colab\"/></a>"
      ]
    },
    {
      "cell_type": "code",
      "execution_count": 8,
      "metadata": {
        "id": "MGF9OV4vsJVH",
        "colab": {
          "base_uri": "https://localhost:8080/",
          "height": 0
        },
        "outputId": "0c3d1405-f86e-4aed-d816-f978f5ef4562"
      },
      "outputs": [
        {
          "output_type": "stream",
          "name": "stdout",
          "text": [
            "(41188, 21)\n",
            "age                 int64\n",
            "job                object\n",
            "marital            object\n",
            "education          object\n",
            "default            object\n",
            "housing            object\n",
            "loan               object\n",
            "contact            object\n",
            "month              object\n",
            "day_of_week        object\n",
            "duration            int64\n",
            "campaign            int64\n",
            "pdays               int64\n",
            "previous            int64\n",
            "poutcome           object\n",
            "emp_var_rate      float64\n",
            "cons_price_idx    float64\n",
            "cons_conf_idx     float64\n",
            "euribor3m         float64\n",
            "nr_employed       float64\n",
            "y                   int64\n",
            "dtype: object\n",
            "age               0\n",
            "job               0\n",
            "marital           0\n",
            "education         0\n",
            "default           0\n",
            "housing           0\n",
            "loan              0\n",
            "contact           0\n",
            "month             0\n",
            "day_of_week       0\n",
            "duration          0\n",
            "campaign          0\n",
            "pdays             0\n",
            "previous          0\n",
            "poutcome          0\n",
            "emp_var_rate      0\n",
            "cons_price_idx    0\n",
            "cons_conf_idx     0\n",
            "euribor3m         0\n",
            "nr_employed       0\n",
            "y                 0\n",
            "dtype: int64\n"
          ]
        },
        {
          "output_type": "stream",
          "name": "stderr",
          "text": [
            "<ipython-input-8-b91a2c8c97b1>:30: FutureWarning: The default value of numeric_only in DataFrame.median is deprecated. In a future version, it will default to False. In addition, specifying 'numeric_only=None' is deprecated. Select only valid columns or specify the value of numeric_only to silence this warning.\n",
            "  df.fillna(df.median(), inplace=True)\n",
            "<ipython-input-8-b91a2c8c97b1>:33: FutureWarning: The default value of numeric_only in DataFrame.mean is deprecated. In a future version, it will default to False. In addition, specifying 'numeric_only=None' is deprecated. Select only valid columns or specify the value of numeric_only to silence this warning.\n",
            "  df.fillna(df.mean(), inplace=True)\n"
          ]
        }
      ],
      "source": [
        "'''\n",
        "Hamza Haroon BSCYS-VI-A\n",
        "Lab 5\n",
        "'''\n",
        "from sklearn.preprocessing import LabelEncoder\n",
        "import pandas as pd\n",
        "import string\n",
        "\n",
        "# Read the CSV file\n",
        "df = pd.read_csv('/content/banking.csv')\n",
        "\n",
        "print(df.shape)\n",
        "print(df.dtypes)\n",
        "print(df.isnull().sum())\n",
        "\n",
        "# Drop columns 'age' and 'job'\n",
        "df.drop(['age', 'job'], axis=1, inplace=True)\n",
        "\n",
        "# Rename columns (replace 'old_name' and 'new_name' with actual column names)\n",
        "df.rename(columns={'old_name': 'new_name'}, inplace=True)\n",
        "\n",
        "# Check if 'column' exists before attempting to change its data type\n",
        "if 'column' in df.columns:\n",
        "    df['column'] = df['column'].astype('float')\n",
        "\n",
        "# Drop rows with missing values\n",
        "df.dropna(inplace=True)\n",
        "\n",
        "# Fill missing values with median\n",
        "df.fillna(df.median(), inplace=True)\n",
        "\n",
        "# Fill missing values with mean\n",
        "df.fillna(df.mean(), inplace=True)\n",
        "\n",
        "# Fill missing values with 0\n",
        "df.fillna(0, inplace=True)\n",
        "\n",
        "# Perform Label Encoding for categorical column\n",
        "if 'categorical_column' in df.columns:\n",
        "    encoder = LabelEncoder()\n",
        "    df['encoded_column'] = encoder.fit_transform(df['categorical_column'])\n",
        "\n",
        "# Convert text column to lowercase and remove punctuation\n",
        "if 'text_column' in df.columns:\n",
        "    df['text_column'] = df['text_column'].str.lower()\n",
        "    df['text_column'] = df['text_column'].str.translate(str.maketrans('', '', string.punctuation))\n"
      ]
    }
  ]
}