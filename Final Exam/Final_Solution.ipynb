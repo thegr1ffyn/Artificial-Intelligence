{
  "nbformat": 4,
  "nbformat_minor": 0,
  "metadata": {
    "colab": {
      "provenance": [],
      "gpuType": "T4",
      "include_colab_link": true
    },
    "kernelspec": {
      "name": "python3",
      "display_name": "Python 3"
    },
    "language_info": {
      "name": "python"
    },
    "accelerator": "GPU"
  },
  "cells": [
    {
      "cell_type": "markdown",
      "metadata": {
        "id": "view-in-github",
        "colab_type": "text"
      },
      "source": [
        "<a href=\"https://colab.research.google.com/github/thegr1ffyn/Artificial-Intelligence/blob/main/Final%20Exam/Final_Solution.ipynb\" target=\"_parent\"><img src=\"https://colab.research.google.com/assets/colab-badge.svg\" alt=\"Open In Colab\"/></a>"
      ]
    },
    {
      "cell_type": "markdown",
      "source": [
        "# Hamza Haroon\n",
        "## 211064 BSCYS VI-A\n",
        "## AI Lab Final Exam"
      ],
      "metadata": {
        "id": "_q0sS-agZSpW"
      }
    },
    {
      "cell_type": "markdown",
      "source": [
        "a) Perform all the necessary EDA on provided dataset"
      ],
      "metadata": {
        "id": "rgYdJjJfbDHw"
      }
    },
    {
      "cell_type": "markdown",
      "source": [
        "# Question 1"
      ],
      "metadata": {
        "id": "4GZX0O9ZeVRR"
      }
    },
    {
      "cell_type": "code",
      "source": [
        "import pandas as pd\n",
        "\n",
        "# Load the dataset\n",
        "file_path = '/content/Q1.csv'\n",
        "data = pd.read_csv(file_path)\n",
        "\n",
        "# Display basic information about the dataset\n",
        "data.info()\n",
        "data.head()\n",
        "\n",
        "# Summary statistics for numerical columns\n",
        "data.describe()\n",
        "\n",
        "# Count of unique values in each column\n",
        "data.nunique()\n",
        "\n",
        "# Count of missing values in each column\n",
        "data.isnull().sum()\n",
        "\n",
        "# Distribution of the target variable 'Flag'\n",
        "data['Flag'].value_counts()\n"
      ],
      "metadata": {
        "colab": {
          "base_uri": "https://localhost:8080/"
        },
        "id": "oTAizXeDZn5F",
        "outputId": "24051ae1-288d-4eca-a448-70477bb6e49a"
      },
      "execution_count": null,
      "outputs": [
        {
          "output_type": "stream",
          "name": "stdout",
          "text": [
            "<class 'pandas.core.frame.DataFrame'>\n",
            "RangeIndex: 4004 entries, 0 to 4003\n",
            "Data columns (total 12 columns):\n",
            " #   Column      Non-Null Count  Dtype \n",
            "---  ------      --------------  ----- \n",
            " 0   Time Stamp  4004 non-null   int64 \n",
            " 1   CAN ID      4004 non-null   object\n",
            " 2   DLC         4004 non-null   int64 \n",
            " 3   D0          4004 non-null   object\n",
            " 4   D1          4004 non-null   object\n",
            " 5   D2          4004 non-null   object\n",
            " 6   D3          3975 non-null   object\n",
            " 7   D4          3975 non-null   object\n",
            " 8   D5          3975 non-null   object\n",
            " 9   D6          3922 non-null   object\n",
            " 10  D7          3922 non-null   object\n",
            " 11  Flag        3922 non-null   object\n",
            "dtypes: int64(2), object(10)\n",
            "memory usage: 375.5+ KB\n"
          ]
        },
        {
          "output_type": "execute_result",
          "data": {
            "text/plain": [
              "Flag\n",
              "Normal                 2888\n",
              "Spoofing drive gear     321\n",
              "DOS                     279\n",
              "Spoofing RPM guaze      267\n",
              "Fuzzy                   167\n",
              "Name: count, dtype: int64"
            ]
          },
          "metadata": {},
          "execution_count": 1
        }
      ]
    },
    {
      "cell_type": "markdown",
      "source": [
        "b) Normalize the provided data set"
      ],
      "metadata": {
        "id": "kl3bW5yObywm"
      }
    },
    {
      "cell_type": "code",
      "source": [
        "from sklearn.preprocessing import StandardScaler\n",
        "\n",
        "# Select numerical columns to normalize\n",
        "numerical_cols = ['Time Stamp', 'DLC']\n",
        "\n",
        "# Initialize the scaler\n",
        "scaler = StandardScaler()\n",
        "\n",
        "# Normalize the data\n",
        "data[numerical_cols] = scaler.fit_transform(data[numerical_cols])\n"
      ],
      "metadata": {
        "id": "NliR7gaUbMY5"
      },
      "execution_count": null,
      "outputs": []
    },
    {
      "cell_type": "markdown",
      "source": [
        "c) Balance the dataset using smote"
      ],
      "metadata": {
        "id": "u9Jg392xby4f"
      }
    },
    {
      "cell_type": "code",
      "source": [
        "from imblearn.over_sampling import SMOTE\n",
        "from sklearn.compose import ColumnTransformer\n",
        "from sklearn.preprocessing import OneHotEncoder, LabelEncoder\n",
        "\n",
        "# Separate features and target variable\n",
        "X = data.drop(columns=['Flag'])\n",
        "y = data['Flag']\n",
        "\n",
        "# Encode the target variable\n",
        "encoder = LabelEncoder()\n",
        "y = encoder.fit_transform(y)\n",
        "\n",
        "# Identify numeric and non-numeric columns\n",
        "numeric_cols = X.select_dtypes(include=['float64', 'int64']).columns\n",
        "non_numeric_cols = X.select_dtypes(exclude=['float64', 'int64']).columns\n",
        "\n",
        "# Instantiate the column transformer\n",
        "column_transformer = ColumnTransformer(\n",
        "    transformers=[\n",
        "        ('numeric', 'passthrough', numeric_cols),\n",
        "        ('non_numeric', OneHotEncoder(handle_unknown='ignore'), non_numeric_cols)\n",
        "    ],\n",
        "    remainder='passthrough'\n",
        ")\n",
        "\n",
        "# Transform the data\n",
        "X = column_transformer.fit_transform(X)\n",
        "\n",
        "# Initialize SMOTE\n",
        "smote = SMOTE()\n",
        "\n",
        "# Apply SMOTE\n",
        "X_resampled, y_resampled = smote.fit_resample(X, y)"
      ],
      "metadata": {
        "id": "3x45j8mmbMoA"
      },
      "execution_count": null,
      "outputs": []
    },
    {
      "cell_type": "markdown",
      "source": [
        "d) Split dataset into test and train"
      ],
      "metadata": {
        "id": "X3cYLDK7bzAe"
      }
    },
    {
      "cell_type": "code",
      "source": [
        "from sklearn.model_selection import train_test_split\n",
        "\n",
        "# Split the dataset\n",
        "X_train, X_test, y_train, y_test = train_test_split(X_resampled, y_resampled, test_size=0.2, random_state=42)\n"
      ],
      "metadata": {
        "id": "pU_Dt2RpbMyQ"
      },
      "execution_count": null,
      "outputs": []
    },
    {
      "cell_type": "markdown",
      "source": [
        "e) Apply deep neural network and Random Forest on balanced dataset"
      ],
      "metadata": {
        "id": "G5eJvoTYbzHG"
      }
    },
    {
      "cell_type": "code",
      "source": [
        "import tensorflow as tf\n",
        "import numpy as np\n",
        "from scipy.sparse import csr_matrix\n",
        "\n",
        "# Convert X_train, X_val, and X_test to scipy.sparse.csr_matrix\n",
        "X_train_csr = csr_matrix(X_train)\n",
        "X_val_csr = csr_matrix(X_val)\n",
        "X_test_csr = csr_matrix(X_test)\n",
        "\n",
        "# Convert scipy.sparse.csr_matrix to TensorFlow SparseTensors\n",
        "X_train_sparse = tf.SparseTensor(indices=np.array([X_train_csr.nonzero()[0], X_train_csr.nonzero()[1]]).T,\n",
        "                                 values=X_train_csr.data,\n",
        "                                 dense_shape=X_train_csr.shape)\n",
        "\n",
        "X_val_sparse = tf.SparseTensor(indices=np.array([X_val_csr.nonzero()[0], X_val_csr.nonzero()[1]]).T,\n",
        "                                values=X_val_csr.data,\n",
        "                                dense_shape=X_val_csr.shape)\n",
        "\n",
        "X_test_sparse = tf.SparseTensor(indices=np.array([X_test_csr.nonzero()[0], X_test_csr.nonzero()[1]]).T,\n",
        "                                 values=X_test_csr.data,\n",
        "                                 dense_shape=X_test_csr.shape)\n",
        "\n",
        "# Reorder the indices of the sparse tensors\n",
        "X_train_reordered = tf.sparse.reorder(X_train_sparse)\n",
        "X_val_reordered = tf.sparse.reorder(X_val_sparse)\n",
        "X_test_reordered = tf.sparse.reorder(X_test_sparse)\n",
        "\n",
        "# Deep Neural Network\n",
        "model = Sequential()\n",
        "model.add(Dense(64, input_dim=X_train_reordered.shape[1], activation='relu'))\n",
        "model.add(Dense(32, activation='relu'))\n",
        "model.add(Dense(5, activation='softmax'))\n",
        "model.compile(loss='sparse_categorical_crossentropy', optimizer='adam', metrics=['accuracy'])\n",
        "model.fit(X_train_reordered, y_train, epochs=10, batch_size=32, validation_data=(X_val_reordered, y_val))\n",
        "y_pred_dnn = model.predict(X_test_reordered)\n",
        "y_pred_dnn_classes = y_pred_dnn.argmax(axis=-1)"
      ],
      "metadata": {
        "colab": {
          "base_uri": "https://localhost:8080/"
        },
        "id": "_GyvhwSTlK5O",
        "outputId": "5dd0fd20-e806-426c-ee18-833932a768a8"
      },
      "execution_count": null,
      "outputs": [
        {
          "output_type": "stream",
          "name": "stdout",
          "text": [
            "Epoch 1/10\n",
            "278/278 [==============================] - 19s 56ms/step - loss: nan - accuracy: 0.1648 - val_loss: nan - val_accuracy: 0.1713\n",
            "Epoch 2/10\n",
            "278/278 [==============================] - 3s 10ms/step - loss: nan - accuracy: 0.1640 - val_loss: nan - val_accuracy: 0.1713\n",
            "Epoch 3/10\n",
            "278/278 [==============================] - 2s 8ms/step - loss: nan - accuracy: 0.1640 - val_loss: nan - val_accuracy: 0.1713\n",
            "Epoch 4/10\n",
            "278/278 [==============================] - 3s 9ms/step - loss: nan - accuracy: 0.1640 - val_loss: nan - val_accuracy: 0.1713\n",
            "Epoch 5/10\n",
            "278/278 [==============================] - 3s 10ms/step - loss: nan - accuracy: 0.1640 - val_loss: nan - val_accuracy: 0.1713\n",
            "Epoch 6/10\n",
            "278/278 [==============================] - 2s 7ms/step - loss: nan - accuracy: 0.1640 - val_loss: nan - val_accuracy: 0.1713\n",
            "Epoch 7/10\n",
            "278/278 [==============================] - 2s 6ms/step - loss: nan - accuracy: 0.1640 - val_loss: nan - val_accuracy: 0.1713\n",
            "Epoch 8/10\n",
            "278/278 [==============================] - 2s 6ms/step - loss: nan - accuracy: 0.1640 - val_loss: nan - val_accuracy: 0.1713\n",
            "Epoch 9/10\n",
            "278/278 [==============================] - 2s 8ms/step - loss: nan - accuracy: 0.1640 - val_loss: nan - val_accuracy: 0.1713\n",
            "Epoch 10/10\n",
            "278/278 [==============================] - 2s 7ms/step - loss: nan - accuracy: 0.1640 - val_loss: nan - val_accuracy: 0.1713\n",
            "109/109 [==============================] - 1s 2ms/step\n"
          ]
        }
      ]
    },
    {
      "cell_type": "markdown",
      "source": [
        "f) Calculate the accuracy, precision and F1 score"
      ],
      "metadata": {
        "id": "cMy0LDGJbzNW"
      }
    },
    {
      "cell_type": "code",
      "source": [
        "from sklearn.metrics import accuracy_score, precision_score, f1_score\n",
        "\n",
        "# Random Forest metrics\n",
        "accuracy_rf = accuracy_score(y_test, y_pred_rf)\n",
        "precision_rf = precision_score(y_test, y_pred_rf, average='weighted')\n",
        "f1_rf = f1_score(y_test, y_pred_rf, average='weighted')\n",
        "\n",
        "# DNN metrics\n",
        "accuracy_dnn = accuracy_score(y_test, y_pred_dnn_classes)\n",
        "precision_dnn = precision_score(y_test, y_pred_dnn_classes, average='weighted')\n",
        "f1_dnn = f1_score(y_test, y_pred_dnn_classes, average='weighted')\n",
        "\n",
        "accuracy_rf, precision_rf, f1_rf, accuracy_dnn, precision_dnn, f1_dnn\n"
      ],
      "metadata": {
        "colab": {
          "base_uri": "https://localhost:8080/"
        },
        "id": "0_-txT_Dbq42",
        "outputId": "0e07fd2e-b02f-42b7-e281-5a38d2f7afa1"
      },
      "execution_count": null,
      "outputs": [
        {
          "output_type": "stream",
          "name": "stderr",
          "text": [
            "/usr/local/lib/python3.10/dist-packages/sklearn/metrics/_classification.py:1344: UndefinedMetricWarning: Precision is ill-defined and being set to 0.0 in labels with no predicted samples. Use `zero_division` parameter to control this behavior.\n",
            "  _warn_prf(average, modifier, msg_start, len(result))\n"
          ]
        },
        {
          "output_type": "execute_result",
          "data": {
            "text/plain": [
              "(1.0, 1.0, 1.0, 0.173398730525101, 0.030067119747716586, 0.05124791593094944)"
            ]
          },
          "metadata": {},
          "execution_count": 21
        }
      ]
    },
    {
      "cell_type": "markdown",
      "source": [
        "g) Draw confusion matrix."
      ],
      "metadata": {
        "id": "VGQGgetMbzU-"
      }
    },
    {
      "cell_type": "code",
      "source": [
        "from sklearn.metrics import confusion_matrix\n",
        "import seaborn as sns\n",
        "import matplotlib.pyplot as plt\n",
        "\n",
        "# Confusion matrix for Random Forest\n",
        "cm_rf = confusion_matrix(y_test, y_pred_rf)\n",
        "sns.heatmap(cm_rf, annot=True, fmt='d', cmap='Blues')\n",
        "plt.title('Confusion Matrix - Random Forest')\n",
        "plt.xlabel('Predicted')\n",
        "plt.ylabel('Actual')\n",
        "plt.show()\n",
        "\n",
        "# Confusion matrix for DNN\n",
        "cm_dnn = confusion_matrix(y_test, y_pred_dnn_classes)\n",
        "sns.heatmap(cm_dnn, annot=True, fmt='d', cmap='Blues')\n",
        "plt.title('Confusion Matrix - DNN')\n",
        "plt.xlabel('Predicted')\n",
        "plt.ylabel('Actual')\n",
        "plt.show()\n"
      ],
      "metadata": {
        "colab": {
          "base_uri": "https://localhost:8080/",
          "height": 927
        },
        "id": "4y4kVWXkbrH2",
        "outputId": "4c611b3b-43c2-43bd-a663-9a195b07943a"
      },
      "execution_count": null,
      "outputs": [
        {
          "output_type": "display_data",
          "data": {
            "text/plain": [
              "<Figure size 640x480 with 2 Axes>"
            ],
            "image/png": "[encoded data removed]"
          },
          "metadata": {}
        },
        {
          "output_type": "display_data",
          "data": {
            "text/plain": [
              "<Figure size 640x480 with 2 Axes>"
            ],
            "image/png": "[encoded data removed]"
          },
          "metadata": {}
        }
      ]
    },
    {
      "cell_type": "markdown",
      "source": [
        "# Question 2"
      ],
      "metadata": {
        "id": "12NCfj1ieFIS"
      }
    },
    {
      "cell_type": "code",
      "source": [
        "import pandas as pd\n",
        "from sklearn.model_selection import train_test_split\n",
        "from sklearn.preprocessing import StandardScaler, LabelEncoder\n",
        "from sklearn.metrics import confusion_matrix, classification_report\n",
        "import tensorflow as tf\n",
        "from tensorflow.keras.models import Sequential\n",
        "from tensorflow.keras.layers import Dense, Conv1D, MaxPooling1D, Flatten\n",
        "import numpy as np\n",
        "\n",
        "file_path = '/content/Malware dataset.csv'\n",
        "data = pd.read_csv(file_path)"
      ],
      "metadata": {
        "id": "ds2d9OU8uPf4"
      },
      "execution_count": 5,
      "outputs": []
    },
    {
      "cell_type": "markdown",
      "source": [
        "a Print the summary of data frame"
      ],
      "metadata": {
        "id": "kp5olvtxuNFc"
      }
    },
    {
      "cell_type": "code",
      "source": [
        "print(\"Summary of DataFrame:\")\n",
        "print(data.describe())"
      ],
      "metadata": {
        "colab": {
          "base_uri": "https://localhost:8080/",
          "height": 0
        },
        "id": "IU-0Q82uuUPo",
        "outputId": "e6efd55d-000f-4a49-8998-4b19393997e7"
      },
      "execution_count": 6,
      "outputs": [
        {
          "output_type": "stream",
          "name": "stdout",
          "text": [
            "Summary of DataFrame:\n",
            "       req/headers/content-length\n",
            "count                      1000.0\n",
            "mean                         70.0\n",
            "std                           0.0\n",
            "min                          70.0\n",
            "25%                          70.0\n",
            "50%                          70.0\n",
            "75%                          70.0\n",
            "max                          70.0\n"
          ]
        }
      ]
    },
    {
      "cell_type": "markdown",
      "source": [
        "b - Show the type of each column"
      ],
      "metadata": {
        "id": "fM_5UeLmuV_x"
      }
    },
    {
      "cell_type": "code",
      "source": [
        "print(\"\\nData types of each column:\")\n",
        "print(data.dtypes)"
      ],
      "metadata": {
        "colab": {
          "base_uri": "https://localhost:8080/",
          "height": 0
        },
        "id": "b-gc1H0VuX2S",
        "outputId": "ec0760f4-5043-4ecb-d724-27f452e31aac"
      },
      "execution_count": 29,
      "outputs": [
        {
          "output_type": "stream",
          "name": "stdout",
          "text": [
            "\n",
            "Data types of each column:\n",
            "Unnamed: 0                                                            int64\n",
            "Number                                                                int64\n",
            "Name_of_Covered_Entity                                               object\n",
            "State                                                                object\n",
            "Business_Associate_Involved                                          object\n",
            "Individuals_Affected                                                  int64\n",
            "Date_of_Breach                                                       object\n",
            "Location_of_Breached_Information                                     object\n",
            "Date_Posted_or_Updated                                               object\n",
            "breach_start                                                         object\n",
            "breach_end                                                           object\n",
            "year                                                                  int64\n",
            "Breach_Hacking/IT Incident                                             bool\n",
            "Breach_Hacking/IT Incident, Other                                      bool\n",
            "Breach_Improper Disposal                                               bool\n",
            "Breach_Improper Disposal, Unauthorized Access/Disclosure               bool\n",
            "Breach_Loss                                                            bool\n",
            "Breach_Loss, Improper Disposal                                         bool\n",
            "Breach_Loss, Other                                                     bool\n",
            "Breach_Loss, Unauthorized Access/Disclosure                            bool\n",
            "Breach_Loss, Unauthorized Access/Disclosure, Unknown                   bool\n",
            "Breach_Loss, Unknown                                                   bool\n",
            "Breach_Other                                                           bool\n",
            "Breach_Theft                                                           bool\n",
            "Breach_Theft, Hacking/IT Incident                                      bool\n",
            "Breach_Theft, Improper Disposal, Unauthorized Access/Disclosure        bool\n",
            "Breach_Theft, Loss                                                     bool\n",
            "Breach_Theft, Loss, Improper Disposal                                  bool\n",
            "Breach_Theft, Loss, Other                                              bool\n",
            "Breach_Theft, Loss, Unauthorized Access/Disclosure, Unknown            bool\n",
            "Breach_Theft, Other                                                    bool\n",
            "Breach_Theft, Unauthorized Access/Disclosure                           bool\n",
            "Breach_Theft, Unauthorized Access/Disclosure, Hacking/IT Incident      bool\n",
            "Breach_Theft, Unauthorized Access/Disclosure, Other                    bool\n",
            "Breach_Unauthorized Access/Disclosure                                  bool\n",
            "Breach_Unauthorized Access/Disclosure                                  bool\n",
            "Breach_Unauthorized Access/Disclosure, Hacking/IT Incident             bool\n",
            "Breach_Unauthorized Access/Disclosure, Hacking/IT Incident, Other      bool\n",
            "Breach_Unauthorized Access/Disclosure, Other                           bool\n",
            "Breach_Unknown                                                         bool\n",
            "Breach_Unknown, Other                                                  bool\n",
            "dtype: object\n"
          ]
        }
      ]
    },
    {
      "cell_type": "markdown",
      "source": [
        "c - Print the minimum and maximum value of each column"
      ],
      "metadata": {
        "id": "qAkah4Spuamc"
      }
    },
    {
      "cell_type": "code",
      "source": [
        "print(\"\\nMinimum and Maximum values of each column:\")\n",
        "for column in data.columns:\n",
        "    print(f\"{column}: Min={data[column].min()}, Max={data[column].max()}\")"
      ],
      "metadata": {
        "colab": {
          "base_uri": "https://localhost:8080/",
          "height": 0
        },
        "id": "fJ3kiMtUubN7",
        "outputId": "73f81714-398a-403d-aafb-9aeae3aa4fc7"
      },
      "execution_count": 8,
      "outputs": [
        {
          "output_type": "stream",
          "name": "stdout",
          "text": [
            "\n",
            "Minimum and Maximum values of each column:\n",
            "req/baseUrl: Min=/crm/note, Max=/crm/note\n",
            "req/body/note/title: Min=Aaron Long, Max=Zachary Castillo\n",
            "req/body/note/desc: Min=<img\u0013src=x onerror=\"javascript:alert(1)\">, Max=text1<video src=1 href=1 onerror=\"javascript:alert(1)\"></video>hello\n",
            "req/fresh: Min=False, Max=False\n",
            "req/headers/host: Min=example.com, Max=example.com\n",
            "req/headers/user-agent: Min=insomnia/2020.4.2, Max=insomnia/2020.4.2\n",
            "req/headers/content-type: Min=application/json, Max=application/json\n",
            "req/headers/org_id: Min=5f572820f65af8ac955b2e83, Max=5f572820f65af8ac955b2e83\n",
            "req/headers/user_session_id: Min=5fb27d3750b11901a35649fe, Max=5fb27d3750b11901a35649fe\n",
            "req/headers/accept: Min=*/*, Max=*/*\n",
            "req/headers/content-length: Min=70, Max=70\n",
            "req/headers/user/name: Min=sam, Max=sam\n",
            "req/headers/user/role: Min=sales1, Max=sales1\n",
            "req/hostname: Min=example.com, Max=example.com\n",
            "req/ip: Min=::ffff:117.99.96.244, Max=::ffff:117.99.96.244\n",
            "req/originalUrl: Min=/crm/note, Max=/crm/note\n",
            "req/path: Min=/note, Max=/note\n",
            "req/protocol: Min=http, Max=http\n",
            "req/secure: Min=False, Max=False\n",
            "req/stale: Min=True, Max=True\n",
            "req/subdomains/0: Min=crm, Max=crm\n",
            "req/xhr: Min=False, Max=False\n",
            "isSafe: Min=False, Max=True\n"
          ]
        }
      ]
    },
    {
      "cell_type": "markdown",
      "source": [
        "d - Find the count of missing values in each column"
      ],
      "metadata": {
        "id": "KHtQJ6fBueVB"
      }
    },
    {
      "cell_type": "code",
      "source": [
        "print(\"\\nCount of missing values in each column:\")\n",
        "print(data.isnull().sum())"
      ],
      "metadata": {
        "colab": {
          "base_uri": "https://localhost:8080/",
          "height": 0
        },
        "id": "ZdbrTu6ougfG",
        "outputId": "1f06e457-dc5a-402b-8b79-45198e2b8931"
      },
      "execution_count": 9,
      "outputs": [
        {
          "output_type": "stream",
          "name": "stdout",
          "text": [
            "\n",
            "Count of missing values in each column:\n",
            "req/baseUrl                    0\n",
            "req/body/note/title            0\n",
            "req/body/note/desc             0\n",
            "req/fresh                      0\n",
            "req/headers/host               0\n",
            "req/headers/user-agent         0\n",
            "req/headers/content-type       0\n",
            "req/headers/org_id             0\n",
            "req/headers/user_session_id    0\n",
            "req/headers/accept             0\n",
            "req/headers/content-length     0\n",
            "req/headers/user/name          0\n",
            "req/headers/user/role          0\n",
            "req/hostname                   0\n",
            "req/ip                         0\n",
            "req/originalUrl                0\n",
            "req/path                       0\n",
            "req/protocol                   0\n",
            "req/secure                     0\n",
            "req/stale                      0\n",
            "req/subdomains/0               0\n",
            "req/xhr                        0\n",
            "isSafe                         0\n",
            "dtype: int64\n"
          ]
        }
      ]
    },
    {
      "cell_type": "markdown",
      "source": [
        "e - Fill the missing values with appropriate method"
      ],
      "metadata": {
        "id": "xpf4RuRTuilK"
      }
    },
    {
      "cell_type": "code",
      "source": [
        "for column in data.columns:\n",
        "    if data[column].dtype == 'object':\n",
        "        data[column].fillna(data[column].mode()[0], inplace=True)\n",
        "    else:\n",
        "        data[column].fillna(data[column].mean(), inplace=True)"
      ],
      "metadata": {
        "id": "_5RMbaN_ul49"
      },
      "execution_count": 10,
      "outputs": []
    },
    {
      "cell_type": "markdown",
      "source": [
        "f - Print the number of unique values in each column"
      ],
      "metadata": {
        "id": "nCflMh6Cunek"
      }
    },
    {
      "cell_type": "code",
      "source": [
        "print(\"\\nNumber of unique values in each column:\")\n",
        "print(data.nunique())\n",
        "# Encoding categorical columns\n",
        "label_encoders = {}\n",
        "for column in data.columns:\n",
        "    if data[column].dtype == 'object':\n",
        "        le = LabelEncoder()\n",
        "        data[column] = le.fit_transform(data[column])\n",
        "        label_encoders[column] = le\n",
        "\n",
        "target_column = data.columns[-1]"
      ],
      "metadata": {
        "colab": {
          "base_uri": "https://localhost:8080/",
          "height": 0
        },
        "id": "3Hgzy9Muutb0",
        "outputId": "4c24cffc-5591-4ef4-d64c-dc1d28b3080f"
      },
      "execution_count": 11,
      "outputs": [
        {
          "output_type": "stream",
          "name": "stdout",
          "text": [
            "\n",
            "Number of unique values in each column:\n",
            "req/baseUrl                      1\n",
            "req/body/note/title            994\n",
            "req/body/note/desc             750\n",
            "req/fresh                        1\n",
            "req/headers/host                 1\n",
            "req/headers/user-agent           1\n",
            "req/headers/content-type         1\n",
            "req/headers/org_id               1\n",
            "req/headers/user_session_id      1\n",
            "req/headers/accept               1\n",
            "req/headers/content-length       1\n",
            "req/headers/user/name            1\n",
            "req/headers/user/role            1\n",
            "req/hostname                     1\n",
            "req/ip                           1\n",
            "req/originalUrl                  1\n",
            "req/path                         1\n",
            "req/protocol                     1\n",
            "req/secure                       1\n",
            "req/stale                        1\n",
            "req/subdomains/0                 1\n",
            "req/xhr                          1\n",
            "isSafe                           2\n",
            "dtype: int64\n"
          ]
        }
      ]
    },
    {
      "cell_type": "markdown",
      "source": [
        "g - Separate the 30% of data for testing purpose"
      ],
      "metadata": {
        "id": "Y8M5Ip39uzEA"
      }
    },
    {
      "cell_type": "code",
      "source": [
        "train_data, test_data = train_test_split(data, test_size=0.3, random_state=42)\n"
      ],
      "metadata": {
        "id": "piFsHdC7u2IV"
      },
      "execution_count": 12,
      "outputs": []
    },
    {
      "cell_type": "markdown",
      "source": [
        "h - Apply CNN on provided dataset"
      ],
      "metadata": {
        "id": "p2OmFBk0u38Q"
      }
    },
    {
      "cell_type": "code",
      "source": [
        "# Preparing data for CNN\n",
        "X_train = train_data.drop(target_column, axis=1).values\n",
        "y_train = train_data[target_column].values\n",
        "X_test = test_data.drop(target_column, axis=1).values\n",
        "y_test = test_data[target_column].values\n",
        "\n",
        "# Standardize the data\n",
        "scaler = StandardScaler()\n",
        "X_train = scaler.fit_transform(X_train)\n",
        "X_test = scaler.transform(X_test)\n",
        "\n",
        "# Reshape data for CNN input\n",
        "X_train = X_train.reshape(X_train.shape[0], X_train.shape[1], 1)\n",
        "X_test = X_test.reshape(X_test.shape[0], X_test.shape[1], 1)\n",
        "\n",
        "# h. Apply CNN on provided dataset\n",
        "model = Sequential([\n",
        "    Conv1D(32, kernel_size=3, activation='relu', input_shape=(X_train.shape[1], 1)),\n",
        "    MaxPooling1D(pool_size=2),\n",
        "    Conv1D(64, kernel_size=3, activation='relu'),\n",
        "    MaxPooling1D(pool_size=2),\n",
        "    Flatten(),\n",
        "    Dense(128, activation='relu'),\n",
        "    Dense(1, activation='sigmoid')\n",
        "])\n",
        "\n",
        "model.compile(optimizer='adam', loss='binary_crossentropy', metrics=['accuracy'])\n",
        "\n",
        "model.fit(X_train, y_train, epochs=10, batch_size=32, validation_split=0.2)"
      ],
      "metadata": {
        "colab": {
          "base_uri": "https://localhost:8080/",
          "height": 0
        },
        "id": "U_MQyx0eu7sB",
        "outputId": "d96cf1fd-1275-488f-fdbd-68a7329e0a95"
      },
      "execution_count": 13,
      "outputs": [
        {
          "output_type": "stream",
          "name": "stdout",
          "text": [
            "Epoch 1/10\n",
            "18/18 [==============================] - 2s 17ms/step - loss: 0.6853 - accuracy: 0.6071 - val_loss: 0.6763 - val_accuracy: 0.6786\n",
            "Epoch 2/10\n",
            "18/18 [==============================] - 0s 7ms/step - loss: 0.6665 - accuracy: 0.6500 - val_loss: 0.6581 - val_accuracy: 0.6286\n",
            "Epoch 3/10\n",
            "18/18 [==============================] - 0s 7ms/step - loss: 0.6439 - accuracy: 0.6536 - val_loss: 0.6418 - val_accuracy: 0.7000\n",
            "Epoch 4/10\n",
            "18/18 [==============================] - 0s 7ms/step - loss: 0.6291 - accuracy: 0.6804 - val_loss: 0.6194 - val_accuracy: 0.6714\n",
            "Epoch 5/10\n",
            "18/18 [==============================] - 0s 8ms/step - loss: 0.6223 - accuracy: 0.6857 - val_loss: 0.6105 - val_accuracy: 0.6571\n",
            "Epoch 6/10\n",
            "18/18 [==============================] - 0s 10ms/step - loss: 0.6096 - accuracy: 0.6804 - val_loss: 0.5912 - val_accuracy: 0.6857\n",
            "Epoch 7/10\n",
            "18/18 [==============================] - 0s 9ms/step - loss: 0.5977 - accuracy: 0.7000 - val_loss: 0.5825 - val_accuracy: 0.7286\n",
            "Epoch 8/10\n",
            "18/18 [==============================] - 0s 10ms/step - loss: 0.5897 - accuracy: 0.7089 - val_loss: 0.5826 - val_accuracy: 0.7000\n",
            "Epoch 9/10\n",
            "18/18 [==============================] - 0s 9ms/step - loss: 0.5862 - accuracy: 0.7054 - val_loss: 0.5695 - val_accuracy: 0.7071\n",
            "Epoch 10/10\n",
            "18/18 [==============================] - 0s 8ms/step - loss: 0.5828 - accuracy: 0.7089 - val_loss: 0.5898 - val_accuracy: 0.7143\n"
          ]
        },
        {
          "output_type": "execute_result",
          "data": {
            "text/plain": [
              "<keras.src.callbacks.History at 0x7ec0372ad8a0>"
            ]
          },
          "metadata": {},
          "execution_count": 13
        }
      ]
    },
    {
      "cell_type": "markdown",
      "source": [
        "i - Evaluate the model and draw confusion matrix and classification report as well"
      ],
      "metadata": {
        "id": "Esx2nkvnvBv9"
      }
    },
    {
      "cell_type": "code",
      "source": [
        "y_pred = (model.predict(X_test) > 0.5).astype(\"int32\")\n",
        "\n",
        "# Confusion matrix\n",
        "from sklearn.metrics import confusion_matrix\n",
        "import seaborn as sns\n",
        "import matplotlib.pyplot as plt\n",
        "cm = confusion_matrix(y_test, y_pred)\n",
        "print(\"\\nConfusion Matrix:\")\n",
        "print(cm)\n",
        "sns.heatmap(cm, annot=True, fmt='d', cmap='Blues')\n",
        "plt.title('Confusion Matrix - Random Forest')\n",
        "plt.xlabel('Predicted')\n",
        "plt.ylabel('Actual')\n",
        "plt.show()\n",
        "\n",
        "\n",
        "# Classification report\n",
        "cr = classification_report(y_test, y_pred)\n",
        "print(\"\\nClassification Report:\")\n",
        "print(cr)\n"
      ],
      "metadata": {
        "id": "YN153u99sG9H",
        "colab": {
          "base_uri": "https://localhost:8080/",
          "height": 764
        },
        "outputId": "e9b42d45-add8-42b8-de4d-ad8064486029"
      },
      "execution_count": 14,
      "outputs": [
        {
          "output_type": "stream",
          "name": "stdout",
          "text": [
            "10/10 [==============================] - 0s 2ms/step\n",
            "\n",
            "Confusion Matrix:\n",
            "[[ 83  44]\n",
            " [ 48 125]]\n"
          ]
        },
        {
          "output_type": "display_data",
          "data": {
            "text/plain": [
              "<Figure size 640x480 with 2 Axes>"
            ],
            "image/png": "[encoded data removed]"
          },
          "metadata": {}
        },
        {
          "output_type": "stream",
          "name": "stdout",
          "text": [
            "\n",
            "Classification Report:\n",
            "              precision    recall  f1-score   support\n",
            "\n",
            "       False       0.63      0.65      0.64       127\n",
            "        True       0.74      0.72      0.73       173\n",
            "\n",
            "    accuracy                           0.69       300\n",
            "   macro avg       0.69      0.69      0.69       300\n",
            "weighted avg       0.69      0.69      0.69       300\n",
            "\n"
          ]
        }
      ]
    },
    {
      "cell_type": "markdown",
      "source": [
        "# Question 3"
      ],
      "metadata": {
        "id": "qmfp-LhRnm9t"
      }
    },
    {
      "cell_type": "markdown",
      "source": [
        "a - Import appropriate libraries to perform the tasks."
      ],
      "metadata": {
        "id": "AEvSeJ8avgGG"
      }
    },
    {
      "cell_type": "code",
      "source": [
        "# a. Import appropriate libraries to perform the tasks.\n",
        "import pandas as pd\n",
        "from sklearn.model_selection import train_test_split"
      ],
      "metadata": {
        "id": "xBNJk98Evgvx"
      },
      "execution_count": 15,
      "outputs": []
    },
    {
      "cell_type": "markdown",
      "source": [
        "b - Read the above csv"
      ],
      "metadata": {
        "id": "WlTh_cyDvg_i"
      }
    },
    {
      "cell_type": "code",
      "source": [
        "# b. Read the above CSV\n",
        "file_path = '/content/Cyber Security Breaches.csv'\n",
        "data = pd.read_csv(file_path)"
      ],
      "metadata": {
        "id": "nQdnz9ovvhLT"
      },
      "execution_count": 16,
      "outputs": []
    },
    {
      "cell_type": "markdown",
      "source": [
        "c - Visualize the provided data"
      ],
      "metadata": {
        "id": "qC-Zxd8yvhhI"
      }
    },
    {
      "cell_type": "code",
      "source": [
        "# c. Visualize the provided data\n",
        "print(\"First few rows of the data:\")\n",
        "print(data.head())"
      ],
      "metadata": {
        "colab": {
          "base_uri": "https://localhost:8080/",
          "height": 0
        },
        "id": "rXnre8LtvhrD",
        "outputId": "c5fffebf-b5ed-4106-fae2-4e97e6a54a2f"
      },
      "execution_count": 17,
      "outputs": [
        {
          "output_type": "stream",
          "name": "stdout",
          "text": [
            "First few rows of the data:\n",
            "   Unnamed: 0  Number                             Name_of_Covered_Entity  \\\n",
            "0           1       0                         Brooke Army Medical Center   \n",
            "1           2       1          Mid America Kidney Stone Association, LLC   \n",
            "2           3       2    Alaska Department of Health and Social Services   \n",
            "3           4       3  Health Services for Children with Special Need...   \n",
            "4           5       4                           L. Douglas Carlson, M.D.   \n",
            "\n",
            "  State Business_Associate_Involved  Individuals_Affected Date_of_Breach  \\\n",
            "0    TX                         NaN                  1000     10/16/2009   \n",
            "1    MO                         NaN                  1000      9/22/2009   \n",
            "2    AK                         NaN                   501     10/12/2009   \n",
            "3    DC                         NaN                  3800     10/09/2009   \n",
            "4    CA                         NaN                  5257      9/27/2009   \n",
            "\n",
            "  Type_of_Breach         Location_of_Breached_Information  \\\n",
            "0          Theft                                    Paper   \n",
            "1          Theft                           Network Server   \n",
            "2          Theft  Other Portable Electronic Device, Other   \n",
            "3           Loss                                   Laptop   \n",
            "4          Theft                         Desktop Computer   \n",
            "\n",
            "  Date_Posted_or_Updated                                            Summary  \\\n",
            "0             30/06/2014  A binder containing the protected health infor...   \n",
            "1             30/05/2014  Five desktop computers containing unencrypted ...   \n",
            "2             23/01/2014                                                NaN   \n",
            "3             23/01/2014  A laptop was lost by an employee while in tran...   \n",
            "4             23/01/2014  A shared Computer that was used for backup was...   \n",
            "\n",
            "  breach_start breach_end  year  \n",
            "0   16/10/2009        NaN  2009  \n",
            "1   22/09/2009        NaN  2009  \n",
            "2   12/10/2009        NaN  2009  \n",
            "3   09/10/2009        NaN  2009  \n",
            "4   27/09/2009        NaN  2009  \n"
          ]
        }
      ]
    },
    {
      "cell_type": "markdown",
      "source": [
        "d - Randomize the data"
      ],
      "metadata": {
        "id": "qJIl85wOvh9o"
      }
    },
    {
      "cell_type": "code",
      "source": [
        "# d. Randomize the data\n",
        "data = data.sample(frac=1).reset_index(drop=True)"
      ],
      "metadata": {
        "id": "kJS4BmV0viIG"
      },
      "execution_count": 18,
      "outputs": []
    },
    {
      "cell_type": "markdown",
      "source": [
        "e - Print the count of null values in each column."
      ],
      "metadata": {
        "id": "zX3I2G6EviRS"
      }
    },
    {
      "cell_type": "code",
      "source": [
        "# e. Print the count of null values in each column.\n",
        "print(\"\\nNull values count before handling:\")\n",
        "print(data.isnull().sum())"
      ],
      "metadata": {
        "colab": {
          "base_uri": "https://localhost:8080/",
          "height": 0
        },
        "id": "zUoi3FWDvias",
        "outputId": "dc9bacf7-192f-4520-d506-c02b3ec1c44d"
      },
      "execution_count": 19,
      "outputs": [
        {
          "output_type": "stream",
          "name": "stdout",
          "text": [
            "\n",
            "Null values count before handling:\n",
            "Unnamed: 0                            0\n",
            "Number                                0\n",
            "Name_of_Covered_Entity                0\n",
            "State                                 0\n",
            "Business_Associate_Involved         784\n",
            "Individuals_Affected                  0\n",
            "Date_of_Breach                        0\n",
            "Type_of_Breach                        0\n",
            "Location_of_Breached_Information      0\n",
            "Date_Posted_or_Updated                0\n",
            "Summary                             913\n",
            "breach_start                          0\n",
            "breach_end                          910\n",
            "year                                  0\n",
            "dtype: int64\n"
          ]
        }
      ]
    },
    {
      "cell_type": "markdown",
      "source": [
        "f - Deal with the null values"
      ],
      "metadata": {
        "id": "SXO7NO21v-Q2"
      }
    },
    {
      "cell_type": "code",
      "source": [
        "# f. Deal with the null values\n",
        "data['Business_Associate_Involved'].fillna('Unknown', inplace=True)\n",
        "data['Summary'].fillna('Unknown', inplace=True)\n",
        "data.dropna(subset=['Individuals_Affected'], inplace=True)"
      ],
      "metadata": {
        "id": "snjMGLAsv-ZR"
      },
      "execution_count": 20,
      "outputs": []
    },
    {
      "cell_type": "markdown",
      "source": [
        "g - Print the summary of data frame."
      ],
      "metadata": {
        "id": "ukxen7eHv-iP"
      }
    },
    {
      "cell_type": "code",
      "source": [
        "# g. Print the summary of data frame.\n",
        "print(\"\\nData Summary:\")\n",
        "print(data.describe(include='all'))"
      ],
      "metadata": {
        "colab": {
          "base_uri": "https://localhost:8080/",
          "height": 0
        },
        "id": "2Z0xxiQ5v-qB",
        "outputId": "68f61bac-c83b-4b1f-8dae-a3c6c8535505"
      },
      "execution_count": 21,
      "outputs": [
        {
          "output_type": "stream",
          "name": "stdout",
          "text": [
            "\n",
            "Data Summary:\n",
            "        Unnamed: 0      Number  \\\n",
            "count   1055.00000  1055.00000   \n",
            "unique         NaN         NaN   \n",
            "top            NaN         NaN   \n",
            "freq           NaN         NaN   \n",
            "mean     528.00000   527.00000   \n",
            "std      304.69657   304.69657   \n",
            "min        1.00000     0.00000   \n",
            "25%      264.50000   263.50000   \n",
            "50%      528.00000   527.00000   \n",
            "75%      791.50000   790.50000   \n",
            "max     1055.00000  1054.00000   \n",
            "\n",
            "                                   Name_of_Covered_Entity State  \\\n",
            "count                                                1055  1055   \n",
            "unique                                                967    52   \n",
            "top     UnitedHealth Group health plan single affiliat...    CA   \n",
            "freq                                                    7   113   \n",
            "mean                                                  NaN   NaN   \n",
            "std                                                   NaN   NaN   \n",
            "min                                                   NaN   NaN   \n",
            "25%                                                   NaN   NaN   \n",
            "50%                                                   NaN   NaN   \n",
            "75%                                                   NaN   NaN   \n",
            "max                                                   NaN   NaN   \n",
            "\n",
            "       Business_Associate_Involved  Individuals_Affected Date_of_Breach  \\\n",
            "count                         1055          1.055000e+03           1055   \n",
            "unique                         232                   NaN            799   \n",
            "top                        Unknown                   NaN      6/24/2011   \n",
            "freq                           784                   NaN              7   \n",
            "mean                           NaN          3.026202e+04            NaN   \n",
            "std                            NaN          2.278598e+05            NaN   \n",
            "min                            NaN          5.000000e+02            NaN   \n",
            "25%                            NaN          1.000000e+03            NaN   \n",
            "50%                            NaN          2.300000e+03            NaN   \n",
            "75%                            NaN          6.941000e+03            NaN   \n",
            "max                            NaN          4.900000e+06            NaN   \n",
            "\n",
            "       Type_of_Breach Location_of_Breached_Information Date_Posted_or_Updated  \\\n",
            "count            1055                             1055                   1055   \n",
            "unique             29                               41                     43   \n",
            "top             Theft                            Paper             23/01/2014   \n",
            "freq              516                              227                    691   \n",
            "mean              NaN                              NaN                    NaN   \n",
            "std               NaN                              NaN                    NaN   \n",
            "min               NaN                              NaN                    NaN   \n",
            "25%               NaN                              NaN                    NaN   \n",
            "50%               NaN                              NaN                    NaN   \n",
            "75%               NaN                              NaN                    NaN   \n",
            "max               NaN                              NaN                    NaN   \n",
            "\n",
            "        Summary breach_start  breach_end         year  \n",
            "count      1055         1055         145  1055.000000  \n",
            "unique      142          732         121          NaN  \n",
            "top     Unknown   15/06/2012  01/10/2012          NaN  \n",
            "freq        913            8          11          NaN  \n",
            "mean        NaN          NaN         NaN  2011.450237  \n",
            "std         NaN          NaN         NaN     1.581780  \n",
            "min         NaN          NaN         NaN  1997.000000  \n",
            "25%         NaN          NaN         NaN  2010.000000  \n",
            "50%         NaN          NaN         NaN  2012.000000  \n",
            "75%         NaN          NaN         NaN  2013.000000  \n",
            "max         NaN          NaN         NaN  2014.000000  \n"
          ]
        }
      ]
    },
    {
      "cell_type": "markdown",
      "source": [
        "h - Create dummy variable for column “Type_of_Breach”."
      ],
      "metadata": {
        "id": "ipDQAmC0v-xJ"
      }
    },
    {
      "cell_type": "code",
      "source": [
        "# h. Create dummy variables for column “Type_of_Breach”.\n",
        "data_with_dummies = pd.get_dummies(data, columns=['Type_of_Breach'], prefix='Breach')"
      ],
      "metadata": {
        "id": "swI9ZTWqwJNu"
      },
      "execution_count": 22,
      "outputs": []
    },
    {
      "cell_type": "markdown",
      "source": [
        "i - Read data from the above table."
      ],
      "metadata": {
        "id": "NHQj_cKSwLuJ"
      }
    },
    {
      "cell_type": "code",
      "source": [
        "# i. Read data from the above table.\n",
        "data = data_with_dummies"
      ],
      "metadata": {
        "id": "P6NUuwPkwFyX"
      },
      "execution_count": 25,
      "outputs": []
    },
    {
      "cell_type": "markdown",
      "source": [
        "j - Drop column “Summary” from Data frame."
      ],
      "metadata": {
        "id": "AyLwK_xGwF56"
      }
    },
    {
      "cell_type": "code",
      "source": [
        "# j. Drop column “Summary” from Data frame.\n",
        "data_with_dummies.drop(columns=['Summary'], inplace=True)"
      ],
      "metadata": {
        "id": "JONl9gEZwGBs"
      },
      "execution_count": 26,
      "outputs": []
    },
    {
      "cell_type": "markdown",
      "source": [
        "k - Identify the feature and label from above table."
      ],
      "metadata": {
        "id": "J6rmEb1mwGIf"
      }
    },
    {
      "cell_type": "code",
      "source": [
        "# k. Identify the feature and label from above table.\n",
        "features = data_with_dummies.drop(columns=['Individuals_Affected'])\n",
        "labels = data_with_dummies['Individuals_Affected']"
      ],
      "metadata": {
        "id": "g40OmgVDwGP1"
      },
      "execution_count": 27,
      "outputs": []
    },
    {
      "cell_type": "markdown",
      "source": [
        "l - Split the above table in test and train."
      ],
      "metadata": {
        "id": "SbULUdJQwGXE"
      }
    },
    {
      "cell_type": "code",
      "source": [
        "# l. Split the above table in test and train.\n",
        "X_train, X_test, y_train, y_test = train_test_split(features, labels, test_size=0.2, random_state=42)\n",
        "\n",
        "# Print the shape of the train and test sets\n",
        "print(\"\\nShapes of train and test sets:\")\n",
        "print(f\"X_train: {X_train.shape}\")\n",
        "print(f\"X_test: {X_test.shape}\")\n",
        "print(f\"y_train: {y_train.shape}\")\n",
        "print(f\"y_test: {y_test.shape}\")\n",
        "\n",
        "# Summary of the final data\n",
        "print(\"\\nFeatures Summary:\")\n",
        "print(features.describe(include='all'))"
      ],
      "metadata": {
        "colab": {
          "base_uri": "https://localhost:8080/",
          "height": 0
        },
        "id": "1Fd5tcszv-40",
        "outputId": "f0c0e66d-8fc1-464b-c769-c7b2fa6170f3"
      },
      "execution_count": 28,
      "outputs": [
        {
          "output_type": "stream",
          "name": "stdout",
          "text": [
            "\n",
            "Shapes of train and test sets:\n",
            "X_train: (844, 40)\n",
            "X_test: (211, 40)\n",
            "y_train: (844,)\n",
            "y_test: (211,)\n",
            "\n",
            "Features Summary:\n",
            "        Unnamed: 0      Number  \\\n",
            "count   1055.00000  1055.00000   \n",
            "unique         NaN         NaN   \n",
            "top            NaN         NaN   \n",
            "freq           NaN         NaN   \n",
            "mean     528.00000   527.00000   \n",
            "std      304.69657   304.69657   \n",
            "min        1.00000     0.00000   \n",
            "25%      264.50000   263.50000   \n",
            "50%      528.00000   527.00000   \n",
            "75%      791.50000   790.50000   \n",
            "max     1055.00000  1054.00000   \n",
            "\n",
            "                                   Name_of_Covered_Entity State  \\\n",
            "count                                                1055  1055   \n",
            "unique                                                967    52   \n",
            "top     UnitedHealth Group health plan single affiliat...    CA   \n",
            "freq                                                    7   113   \n",
            "mean                                                  NaN   NaN   \n",
            "std                                                   NaN   NaN   \n",
            "min                                                   NaN   NaN   \n",
            "25%                                                   NaN   NaN   \n",
            "50%                                                   NaN   NaN   \n",
            "75%                                                   NaN   NaN   \n",
            "max                                                   NaN   NaN   \n",
            "\n",
            "       Business_Associate_Involved Date_of_Breach  \\\n",
            "count                         1055           1055   \n",
            "unique                         232            799   \n",
            "top                        Unknown      6/24/2011   \n",
            "freq                           784              7   \n",
            "mean                           NaN            NaN   \n",
            "std                            NaN            NaN   \n",
            "min                            NaN            NaN   \n",
            "25%                            NaN            NaN   \n",
            "50%                            NaN            NaN   \n",
            "75%                            NaN            NaN   \n",
            "max                            NaN            NaN   \n",
            "\n",
            "       Location_of_Breached_Information Date_Posted_or_Updated breach_start  \\\n",
            "count                              1055                   1055         1055   \n",
            "unique                               41                     43          732   \n",
            "top                               Paper             23/01/2014   15/06/2012   \n",
            "freq                                227                    691            8   \n",
            "mean                                NaN                    NaN          NaN   \n",
            "std                                 NaN                    NaN          NaN   \n",
            "min                                 NaN                    NaN          NaN   \n",
            "25%                                 NaN                    NaN          NaN   \n",
            "50%                                 NaN                    NaN          NaN   \n",
            "75%                                 NaN                    NaN          NaN   \n",
            "max                                 NaN                    NaN          NaN   \n",
            "\n",
            "        breach_end  ...  Breach_Theft, Unauthorized Access/Disclosure  \\\n",
            "count          145  ...                                          1055   \n",
            "unique         121  ...                                             2   \n",
            "top     01/10/2012  ...                                         False   \n",
            "freq            11  ...                                          1029   \n",
            "mean           NaN  ...                                           NaN   \n",
            "std            NaN  ...                                           NaN   \n",
            "min            NaN  ...                                           NaN   \n",
            "25%            NaN  ...                                           NaN   \n",
            "50%            NaN  ...                                           NaN   \n",
            "75%            NaN  ...                                           NaN   \n",
            "max            NaN  ...                                           NaN   \n",
            "\n",
            "       Breach_Theft, Unauthorized Access/Disclosure, Hacking/IT Incident  \\\n",
            "count                                                1055                  \n",
            "unique                                                  2                  \n",
            "top                                                 False                  \n",
            "freq                                                 1052                  \n",
            "mean                                                  NaN                  \n",
            "std                                                   NaN                  \n",
            "min                                                   NaN                  \n",
            "25%                                                   NaN                  \n",
            "50%                                                   NaN                  \n",
            "75%                                                   NaN                  \n",
            "max                                                   NaN                  \n",
            "\n",
            "       Breach_Theft, Unauthorized Access/Disclosure, Other  \\\n",
            "count                                                1055    \n",
            "unique                                                  2    \n",
            "top                                                 False    \n",
            "freq                                                 1054    \n",
            "mean                                                  NaN    \n",
            "std                                                   NaN    \n",
            "min                                                   NaN    \n",
            "25%                                                   NaN    \n",
            "50%                                                   NaN    \n",
            "75%                                                   NaN    \n",
            "max                                                   NaN    \n",
            "\n",
            "       Breach_Unauthorized Access/Disclosure  \\\n",
            "count                                   1055   \n",
            "unique                                     2   \n",
            "top                                    False   \n",
            "freq                                     907   \n",
            "mean                                     NaN   \n",
            "std                                      NaN   \n",
            "min                                      NaN   \n",
            "25%                                      NaN   \n",
            "50%                                      NaN   \n",
            "75%                                      NaN   \n",
            "max                                      NaN   \n",
            "\n",
            "       Breach_Unauthorized Access/Disclosure   \\\n",
            "count                                    1055   \n",
            "unique                                      2   \n",
            "top                                     False   \n",
            "freq                                     1053   \n",
            "mean                                      NaN   \n",
            "std                                       NaN   \n",
            "min                                       NaN   \n",
            "25%                                       NaN   \n",
            "50%                                       NaN   \n",
            "75%                                       NaN   \n",
            "max                                       NaN   \n",
            "\n",
            "       Breach_Unauthorized Access/Disclosure, Hacking/IT Incident  \\\n",
            "count                                                1055           \n",
            "unique                                                  2           \n",
            "top                                                 False           \n",
            "freq                                                 1046           \n",
            "mean                                                  NaN           \n",
            "std                                                   NaN           \n",
            "min                                                   NaN           \n",
            "25%                                                   NaN           \n",
            "50%                                                   NaN           \n",
            "75%                                                   NaN           \n",
            "max                                                   NaN           \n",
            "\n",
            "       Breach_Unauthorized Access/Disclosure, Hacking/IT Incident, Other  \\\n",
            "count                                                1055                  \n",
            "unique                                                  2                  \n",
            "top                                                 False                  \n",
            "freq                                                 1054                  \n",
            "mean                                                  NaN                  \n",
            "std                                                   NaN                  \n",
            "min                                                   NaN                  \n",
            "25%                                                   NaN                  \n",
            "50%                                                   NaN                  \n",
            "75%                                                   NaN                  \n",
            "max                                                   NaN                  \n",
            "\n",
            "       Breach_Unauthorized Access/Disclosure, Other Breach_Unknown  \\\n",
            "count                                          1055           1055   \n",
            "unique                                            2              2   \n",
            "top                                           False          False   \n",
            "freq                                           1047           1045   \n",
            "mean                                            NaN            NaN   \n",
            "std                                             NaN            NaN   \n",
            "min                                             NaN            NaN   \n",
            "25%                                             NaN            NaN   \n",
            "50%                                             NaN            NaN   \n",
            "75%                                             NaN            NaN   \n",
            "max                                             NaN            NaN   \n",
            "\n",
            "       Breach_Unknown, Other  \n",
            "count                   1055  \n",
            "unique                     2  \n",
            "top                    False  \n",
            "freq                    1053  \n",
            "mean                     NaN  \n",
            "std                      NaN  \n",
            "min                      NaN  \n",
            "25%                      NaN  \n",
            "50%                      NaN  \n",
            "75%                      NaN  \n",
            "max                      NaN  \n",
            "\n",
            "[11 rows x 40 columns]\n"
          ]
        }
      ]
    }
  ]
}