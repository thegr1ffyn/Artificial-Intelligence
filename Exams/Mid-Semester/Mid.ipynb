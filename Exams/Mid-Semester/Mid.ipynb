{
  "nbformat": 4,
  "nbformat_minor": 0,
  "metadata": {
    "colab": {
      "provenance": [],
      "include_colab_link": true
    },
    "kernelspec": {
      "name": "python3",
      "display_name": "Python 3"
    },
    "language_info": {
      "name": "python"
    }
  },
  "cells": [
    {
      "cell_type": "markdown",
      "metadata": {
        "id": "view-in-github",
        "colab_type": "text"
      },
      "source": [
        "<a href=\"https://colab.research.google.com/github/thegr1ffyn/Artificial-Intelligence/blob/main/Exams/Mid-Semester/Mid.ipynb\" target=\"_parent\"><img src=\"https://colab.research.google.com/assets/colab-badge.svg\" alt=\"Open In Colab\"/></a>"
      ]
    },
    {
      "cell_type": "markdown",
      "source": [
        "-----------------------------\n",
        "\n",
        "Name: Hamza Haroon <br> ID: 211064 <br> Date: 02/04/2024 <br> Course: AI Lab <br> Instructor: Mahaz Khan <br> Topic: Mid Semester Exam\n",
        "\n",
        "-----------------------------\n"
      ],
      "metadata": {
        "id": "9ZcNPOB2Wmxu"
      }
    },
    {
      "cell_type": "markdown",
      "source": [
        "# Question 1\n",
        "Consider the following traffic dataset from sensors and answer or\n",
        "write code accordingly."
      ],
      "metadata": {
        "id": "hlUprQCOj6qV"
      }
    },
    {
      "cell_type": "markdown",
      "source": [
        "a) Import appropriate libraries to perform this task."
      ],
      "metadata": {
        "id": "lDRDOm8nsAMf"
      }
    },
    {
      "cell_type": "code",
      "source": [
        "import pandas as pd\n",
        "from sklearn.model_selection import train_test_split\n",
        "from sklearn.tree import DecisionTreeClassifier\n",
        "from sklearn.metrics import accuracy_score"
      ],
      "metadata": {
        "id": "eJKkhFExa9_Z"
      },
      "execution_count": null,
      "outputs": []
    },
    {
      "cell_type": "markdown",
      "source": [
        "\n",
        "b) Read the above CSV using panda."
      ],
      "metadata": {
        "id": "n4iCkBVBbvUR"
      }
    },
    {
      "cell_type": "code",
      "source": [
        "import pandas as pd\n",
        "data = pd.read_csv('/content/bigmalwaredataset.csv')\n",
        "print(data.shape)"
      ],
      "metadata": {
        "colab": {
          "base_uri": "https://localhost:8080/"
        },
        "id": "ibo9OCXRr51z",
        "outputId": "b1b891b2-40a0-4c5d-eb1a-a568bcce7ab2"
      },
      "execution_count": null,
      "outputs": [
        {
          "output_type": "stream",
          "name": "stdout",
          "text": [
            "(10868, 69)\n"
          ]
        }
      ]
    },
    {
      "cell_type": "markdown",
      "source": [
        "c) Print the count of null values in each column."
      ],
      "metadata": {
        "id": "3YgASr_Nc1F7"
      }
    },
    {
      "cell_type": "code",
      "source": [
        "print(data.isnull().sum())"
      ],
      "metadata": {
        "colab": {
          "base_uri": "https://localhost:8080/"
        },
        "id": "s4FA6nNlc-I6",
        "outputId": "2b6dfd83-ec50-46f9-f604-33fac7a42dd7"
      },
      "execution_count": null,
      "outputs": [
        {
          "output_type": "stream",
          "name": "stdout",
          "text": [
            "asm_commands_add     0\n",
            "asm_commands_call    0\n",
            "asm_commands_cdq     0\n",
            "asm_commands_cld     0\n",
            "asm_commands_cli     0\n",
            "                    ..\n",
            "asm_commands_xchg    0\n",
            "asm_commands_xor     0\n",
            "line_count_asm       0\n",
            "size_asm             0\n",
            "Class                0\n",
            "Length: 69, dtype: int64\n"
          ]
        }
      ]
    },
    {
      "cell_type": "markdown",
      "source": [
        "d) Fill in all missing values using the mean of the column.\n"
      ],
      "metadata": {
        "id": "0J9CbF-Ac5UQ"
      }
    },
    {
      "cell_type": "code",
      "source": [
        "data.fillna(data.mean(), inplace=True)"
      ],
      "metadata": {
        "id": "5CoAsiOxc-6m"
      },
      "execution_count": null,
      "outputs": []
    },
    {
      "cell_type": "markdown",
      "source": [
        "e) Create a dummy variable for column A."
      ],
      "metadata": {
        "id": "fOwd7PZcc64s"
      }
    },
    {
      "cell_type": "code",
      "source": [
        "data = pd.get_dummies(data, columns=['epoch'])"
      ],
      "metadata": {
        "id": "d2Ebttehc_nZ"
      },
      "execution_count": null,
      "outputs": []
    },
    {
      "cell_type": "markdown",
      "source": [
        "f) Identify the feature and label from the above table."
      ],
      "metadata": {
        "id": "9CLLYWP4c8tA"
      }
    },
    {
      "cell_type": "code",
      "source": [
        "X = data.drop('Label', axis=1)\n",
        "y = data['Label']"
      ],
      "metadata": {
        "id": "T3bY5fBAdAZB"
      },
      "execution_count": null,
      "outputs": []
    },
    {
      "cell_type": "markdown",
      "source": [
        "g) What are X and Y in this data frame? Split the above table in test\n",
        "and train (you may highlight each component on the table) or\n",
        "redraw the table in each form. Train a decision tree algorithm on the above data frame."
      ],
      "metadata": {
        "id": "m9gMds6tdDbQ"
      }
    },
    {
      "cell_type": "code",
      "source": [
        "X_train, X_test, y_train, y_test = train_test_split(X, y, test_size=0.3, random_state=61)\n",
        "clf = DecisionTreeClassifier()\n",
        "clf.fit(X_train, y_train)\n",
        "\n",
        "Y_pred = clf.predict(X_test)\n",
        "\n",
        "accuracy = accuracy_score(y_test, Y_pred)\n",
        "print(\"Accuracy of the model is :\", accuracy*100)\n"
      ],
      "metadata": {
        "id": "fbqvfi9RdEqB",
        "colab": {
          "base_uri": "https://localhost:8080/"
        },
        "outputId": "99de8e29-74e5-444a-c8fd-5ca1e9302110"
      },
      "execution_count": null,
      "outputs": [
        {
          "output_type": "stream",
          "name": "stdout",
          "text": [
            "Accuracy of the model is : 83.25666973321067\n"
          ]
        }
      ]
    },
    {
      "cell_type": "markdown",
      "source": [
        "# Question 2"
      ],
      "metadata": {
        "id": "sP1qAKQfi3UZ"
      }
    },
    {
      "cell_type": "code",
      "source": [
        "import pandas as pd\n",
        "import numpy as np\n",
        "\n",
        "file_path = \"/content/bigmalwaredataset.csv\"\n",
        "df = pd.read_csv(file_path)\n",
        "\n",
        "# 1. Print the summary of data frame\n",
        "print(\"Printing Summary:\")\n",
        "print(df.describe())\n",
        "\n",
        "# 2. Show the type of each column\n",
        "print(\"\\n\\nPrinting datatypes\")\n",
        "print(df.dtypes)\n",
        "\n",
        "# 3. Print the minimum and maximum value of each column\n",
        "print(\"\\n\\nPrinting minimum and maximum\")\n",
        "print(df.min())\n",
        "print(df.max())\n",
        "\n",
        "# 4. Find the count of missing values in each column\n",
        "print(\"\\n\\nPrinting count of missing values\")\n",
        "print(df.isnull().sum())\n",
        "\n",
        "# 5. Fill the missing values with appropriate method (assuming 0)\n",
        "print(\"\\n\\nFilling missing values with 0\")\n",
        "df.fillna(0, inplace=True)\n",
        "\n",
        "# 6. Print the number of unique values in each column\n",
        "print(\"Number of unique values in each column:\")\n",
        "print(df.nunique())\n",
        "\n",
        "# 7. Perform a feature selection to give input to the model\n",
        "X = df.iloc[:, 0:40].values\n",
        "y = df.iloc[:, 41].values\n",
        "\n",
        "# 8. Separate the 30% of data for testing purpose\n",
        "from sklearn.model_selection import train_test_split\n",
        "X_train, X_test, y_train, y_test = train_test_split(X, y, test_size = 0.30, random_state = 34)\n",
        "print(\"\\n\\nSeperating 30% data for testing\")\n",
        "\n",
        "# 9. Apply Random Forest on provided dataset\n",
        "y_pred = classifier.predict(X_test)\n",
        "from sklearn.metrics import confusion_matrix,classification_report\n",
        "print(confusion_matrix(y_test,y_pred))\n",
        "print(classification_report(y_test,y_pred))\n",
        "\n",
        "from sklearn.ensemble import RandomForestClassifier\n",
        "rf_classifier = RandomForestClassifier()\n",
        "rf_classifier.fit(X_train, y_train)\n",
        "print(\"\\n\\nApplying Random Forest\")\n",
        "\n",
        "# 10. Evaluate the model\n",
        "print(\"Printing the Final Evaluation of the model\")\n",
        "Y_pred = rf_classifier.predict(X_test)\n",
        "accuracy = accuracy_score(y_test, Y_pred)\n",
        "print(\"Accuracy:\", accuracy*100)"
      ],
      "metadata": {
        "colab": {
          "base_uri": "https://localhost:8080/",
          "height": 0
        },
        "id": "8ApFXWozXLqO",
        "outputId": "c14c184f-f3c1-4df8-e937-b126b343d3b5"
      },
      "execution_count": 78,
      "outputs": [
        {
          "output_type": "stream",
          "name": "stdout",
          "text": [
            "Printing Summary:\n",
            "       asm_commands_add  asm_commands_call  asm_commands_cdq  \\\n",
            "count      10868.000000       10868.000000      10868.000000   \n",
            "mean         724.463839         958.675377         10.774384   \n",
            "std         1568.276158        2891.049563         39.071261   \n",
            "min            6.000000           0.000000          0.000000   \n",
            "25%          140.000000         178.000000          0.000000   \n",
            "50%          362.000000         261.000000          0.000000   \n",
            "75%          766.000000         609.000000         16.000000   \n",
            "max        45684.000000       43479.000000       1384.000000   \n",
            "\n",
            "       asm_commands_cld  asm_commands_cli  asm_commands_cmc  asm_commands_cmp  \\\n",
            "count      10868.000000      10868.000000      10868.000000      10868.000000   \n",
            "mean         200.203165         16.794258          1.900074        480.152742   \n",
            "std         1567.778035        184.439789         35.070993       1384.428550   \n",
            "min            0.000000          0.000000          0.000000          0.000000   \n",
            "25%            0.000000          0.000000          0.000000          8.000000   \n",
            "50%            0.000000          1.000000          0.000000        134.500000   \n",
            "75%            2.000000          6.000000          0.000000        401.000000   \n",
            "max        26600.000000       6830.000000       1540.000000      19617.000000   \n",
            "\n",
            "       asm_commands_cwd  asm_commands_daa  asm_commands_dd  ...  \\\n",
            "count      10868.000000      10868.000000     10868.000000  ...   \n",
            "mean           1.411115        221.034321     16995.688167  ...   \n",
            "std           13.709346        498.249596     32916.498115  ...   \n",
            "min            0.000000          0.000000        12.000000  ...   \n",
            "25%            0.000000          2.000000       217.000000  ...   \n",
            "50%            0.000000         37.000000      3328.500000  ...   \n",
            "75%            0.000000        183.000000     18256.000000  ...   \n",
            "max          670.000000      26147.000000    565024.000000  ...   \n",
            "\n",
            "       asm_commands_sti  asm_commands_stos  asm_commands_sub  \\\n",
            "count      10868.000000       10868.000000      10868.000000   \n",
            "mean           6.146669          15.102135       2156.040302   \n",
            "std           36.775391          55.051804       6674.654957   \n",
            "min            0.000000           0.000000          0.000000   \n",
            "25%            0.000000           0.000000        322.000000   \n",
            "50%            1.000000           1.000000        640.000000   \n",
            "75%            2.000000          22.000000       1383.000000   \n",
            "max         1641.000000        1924.000000     130324.000000   \n",
            "\n",
            "       asm_commands_test  asm_commands_wait  asm_commands_xchg  \\\n",
            "count       10868.000000       10868.000000       10868.000000   \n",
            "mean          330.867777           6.230861          71.709698   \n",
            "std          1107.955680          17.015893         581.487035   \n",
            "min             0.000000           0.000000           0.000000   \n",
            "25%             7.000000           0.000000           0.000000   \n",
            "50%            50.000000           3.000000           1.000000   \n",
            "75%           188.000000           7.000000           3.000000   \n",
            "max         25008.000000         515.000000       14725.000000   \n",
            "\n",
            "       asm_commands_xor  line_count_asm      size_asm         Class  \n",
            "count      10868.000000    10868.000000  1.086800e+04  10868.000000  \n",
            "mean         493.072874    80667.184026  4.678640e+06      4.017851  \n",
            "std         2468.536914    64475.348289  3.739570e+06      2.684621  \n",
            "min            0.000000     1942.000000  1.126280e+05      1.000000  \n",
            "25%           13.000000    15105.000000  8.760320e+05      2.000000  \n",
            "50%           81.500000    75364.500000  4.371121e+06      3.000000  \n",
            "75%          273.000000   146433.000000  8.493056e+06      6.000000  \n",
            "max        42457.000000   963585.000000  5.588787e+07      9.000000  \n",
            "\n",
            "[8 rows x 69 columns]\n",
            "\n",
            "\n",
            "Printing datatypes\n",
            "asm_commands_add       int64\n",
            "asm_commands_call    float64\n",
            "asm_commands_cdq     float64\n",
            "asm_commands_cld     float64\n",
            "asm_commands_cli     float64\n",
            "                      ...   \n",
            "asm_commands_xchg    float64\n",
            "asm_commands_xor     float64\n",
            "line_count_asm         int64\n",
            "size_asm               int64\n",
            "Class                  int64\n",
            "Length: 69, dtype: object\n",
            "\n",
            "\n",
            "Printing minimum and maximum\n",
            "asm_commands_add          6.0\n",
            "asm_commands_call         0.0\n",
            "asm_commands_cdq          0.0\n",
            "asm_commands_cld          0.0\n",
            "asm_commands_cli          0.0\n",
            "                       ...   \n",
            "asm_commands_xchg         0.0\n",
            "asm_commands_xor          0.0\n",
            "line_count_asm         1942.0\n",
            "size_asm             112628.0\n",
            "Class                     1.0\n",
            "Length: 69, dtype: float64\n",
            "asm_commands_add        45684.0\n",
            "asm_commands_call       43479.0\n",
            "asm_commands_cdq         1384.0\n",
            "asm_commands_cld        26600.0\n",
            "asm_commands_cli         6830.0\n",
            "                        ...    \n",
            "asm_commands_xchg       14725.0\n",
            "asm_commands_xor        42457.0\n",
            "line_count_asm         963585.0\n",
            "size_asm             55887872.0\n",
            "Class                       9.0\n",
            "Length: 69, dtype: float64\n",
            "\n",
            "\n",
            "Printing count of missing values\n",
            "asm_commands_add     0\n",
            "asm_commands_call    0\n",
            "asm_commands_cdq     0\n",
            "asm_commands_cld     0\n",
            "asm_commands_cli     0\n",
            "                    ..\n",
            "asm_commands_xchg    0\n",
            "asm_commands_xor     0\n",
            "line_count_asm       0\n",
            "size_asm             0\n",
            "Class                0\n",
            "Length: 69, dtype: int64\n",
            "\n",
            "\n",
            "Filling missing values with 0\n",
            "Number of unique values in each column:\n",
            "asm_commands_add     2122\n",
            "asm_commands_call    1993\n",
            "asm_commands_cdq      191\n",
            "asm_commands_cld      210\n",
            "asm_commands_cli      200\n",
            "                     ... \n",
            "asm_commands_xchg     196\n",
            "asm_commands_xor     1309\n",
            "line_count_asm        911\n",
            "size_asm              990\n",
            "Class                   9\n",
            "Length: 69, dtype: int64\n",
            "\n",
            "\n",
            "Seperating 30% data for testing\n",
            "[[2727    0    0 ...    0    0    0]\n",
            " [ 154    0    0 ...    0    0    0]\n",
            " [  72    0    0 ...    0    0    0]\n",
            " ...\n",
            " [   1    0    0 ...    0    0    0]\n",
            " [   2    0    0 ...    0    0    0]\n",
            " [   1    0    0 ...    0    0    0]]\n",
            "              precision    recall  f1-score   support\n",
            "\n",
            "         0.0       0.84      1.00      0.91      2731\n",
            "         1.0       0.00      0.00      0.00       156\n",
            "         2.0       0.00      0.00      0.00        72\n",
            "         3.0       0.00      0.00      0.00        59\n",
            "         4.0       0.00      0.00      0.00        37\n",
            "         5.0       0.00      0.00      0.00        22\n",
            "         6.0       0.00      0.00      0.00        26\n",
            "         7.0       0.00      0.00      0.00         7\n",
            "         8.0       0.00      0.00      0.00        13\n",
            "         9.0       0.00      0.00      0.00        11\n",
            "        10.0       0.00      0.00      0.00         7\n",
            "        11.0       0.00      0.00      0.00         7\n",
            "        12.0       0.00      0.00      0.00        17\n",
            "        13.0       0.00      0.00      0.00         9\n",
            "        14.0       0.00      0.00      0.00         7\n",
            "        15.0       0.00      0.00      0.00         6\n",
            "        16.0       0.00      0.00      0.00         4\n",
            "        17.0       0.00      0.00      0.00         3\n",
            "        18.0       0.00      0.00      0.00        13\n",
            "        19.0       0.00      0.00      0.00         1\n",
            "        20.0       0.00      0.00      0.00         8\n",
            "        21.0       0.00      0.00      0.00         1\n",
            "        22.0       0.00      0.00      0.00         4\n",
            "        23.0       0.00      0.00      0.00         3\n",
            "        24.0       0.00      0.00      0.00         1\n",
            "        25.0       0.00      0.00      0.00         2\n",
            "        26.0       0.00      0.00      0.00         4\n",
            "        27.0       0.00      0.00      0.00         1\n",
            "        28.0       0.00      0.00      0.00         1\n",
            "        29.0       0.00      0.00      0.00         1\n",
            "        32.0       0.00      0.00      0.00         5\n",
            "        35.0       0.00      0.00      0.00         1\n",
            "        36.0       0.00      0.00      0.00         1\n",
            "        40.0       0.00      0.00      0.00         1\n",
            "        42.0       0.00      0.00      0.00         0\n",
            "        43.0       0.00      0.00      0.00         1\n",
            "        45.0       0.00      0.00      0.00         1\n",
            "        47.0       0.00      0.00      0.00         1\n",
            "        48.0       0.00      0.00      0.00         1\n",
            "        51.0       0.00      0.00      0.00         2\n",
            "        52.0       0.00      0.00      0.00         1\n",
            "        53.0       0.00      0.00      0.00         1\n",
            "        58.0       0.00      0.00      0.00         3\n",
            "        61.0       0.00      0.00      0.00         1\n",
            "        63.0       0.00      0.00      0.00         1\n",
            "        71.0       0.00      0.00      0.00         1\n",
            "        73.0       0.00      0.00      0.00         1\n",
            "       100.0       0.00      0.00      0.00         1\n",
            "       114.0       0.00      0.00      0.00         2\n",
            "      1203.0       0.00      0.00      0.00         1\n",
            "\n",
            "    accuracy                           0.84      3261\n",
            "   macro avg       0.02      0.02      0.02      3261\n",
            "weighted avg       0.70      0.84      0.76      3261\n",
            "\n"
          ]
        },
        {
          "output_type": "stream",
          "name": "stderr",
          "text": [
            "/usr/local/lib/python3.10/dist-packages/sklearn/metrics/_classification.py:1344: UndefinedMetricWarning: Precision and F-score are ill-defined and being set to 0.0 in labels with no predicted samples. Use `zero_division` parameter to control this behavior.\n",
            "  _warn_prf(average, modifier, msg_start, len(result))\n",
            "/usr/local/lib/python3.10/dist-packages/sklearn/metrics/_classification.py:1344: UndefinedMetricWarning: Recall and F-score are ill-defined and being set to 0.0 in labels with no true samples. Use `zero_division` parameter to control this behavior.\n",
            "  _warn_prf(average, modifier, msg_start, len(result))\n",
            "/usr/local/lib/python3.10/dist-packages/sklearn/metrics/_classification.py:1344: UndefinedMetricWarning: Precision and F-score are ill-defined and being set to 0.0 in labels with no predicted samples. Use `zero_division` parameter to control this behavior.\n",
            "  _warn_prf(average, modifier, msg_start, len(result))\n",
            "/usr/local/lib/python3.10/dist-packages/sklearn/metrics/_classification.py:1344: UndefinedMetricWarning: Recall and F-score are ill-defined and being set to 0.0 in labels with no true samples. Use `zero_division` parameter to control this behavior.\n",
            "  _warn_prf(average, modifier, msg_start, len(result))\n",
            "/usr/local/lib/python3.10/dist-packages/sklearn/metrics/_classification.py:1344: UndefinedMetricWarning: Precision and F-score are ill-defined and being set to 0.0 in labels with no predicted samples. Use `zero_division` parameter to control this behavior.\n",
            "  _warn_prf(average, modifier, msg_start, len(result))\n",
            "/usr/local/lib/python3.10/dist-packages/sklearn/metrics/_classification.py:1344: UndefinedMetricWarning: Recall and F-score are ill-defined and being set to 0.0 in labels with no true samples. Use `zero_division` parameter to control this behavior.\n",
            "  _warn_prf(average, modifier, msg_start, len(result))\n"
          ]
        },
        {
          "output_type": "stream",
          "name": "stdout",
          "text": [
            "\n",
            "\n",
            "Applying Random Forest\n",
            "Printing the Final Evaluation of the model\n",
            "Accuracy: 86.35387917816621\n"
          ]
        }
      ]
    },
    {
      "cell_type": "markdown",
      "source": [
        "#Question 3\n",
        "Depth First Search (DFS) Program to Traverse following Trees Given\n",
        "Below:\n"
      ],
      "metadata": {
        "id": "IrK_B-IsiGJg"
      }
    },
    {
      "cell_type": "code",
      "source": [
        "graph = {\n",
        "'7' : ['6','8'],\n",
        "'6' : ['4', '9'],\n",
        "'8' : ['6'],\n",
        "'4' : [],\n",
        "'9' : ['5'],\n",
        "'6' : ['8','2'],\n",
        "'8' : [],\n",
        "'5' : ['2'],\n",
        "'2' : ['1'],\n",
        "'1' : []\n",
        "}\n",
        "\n",
        "visited = set()\n",
        "def dfs(visited, graph, node):\n",
        "    if node not in visited:\n",
        "        print (node, end = \" -> \")\n",
        "        visited.add(node)\n",
        "        for neighbour in graph[node]:\n",
        "            dfs(visited, graph, neighbour)\n",
        "\n",
        "print(\"Following is the Depth-First Search\")\n",
        "dfs(visited, graph, '7')"
      ],
      "metadata": {
        "colab": {
          "base_uri": "https://localhost:8080/"
        },
        "id": "bBygdrGfiMTd",
        "outputId": "8db9d96d-10da-4d8f-baa3-297224aa1a80"
      },
      "execution_count": null,
      "outputs": [
        {
          "output_type": "stream",
          "name": "stdout",
          "text": [
            "Following is the Depth-First Search\n",
            "7 -> 6 -> 8 -> 2 -> 1 -> "
          ]
        }
      ]
    }
  ]
}